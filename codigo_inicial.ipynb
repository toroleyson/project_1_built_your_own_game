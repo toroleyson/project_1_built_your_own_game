{
 "cells": [
  {
   "cell_type": "markdown",
   "metadata": {},
   "source": [
    "# Previo: Objetivo del juego:"
   ]
  },
  {
   "cell_type": "code",
   "execution_count": 1,
   "metadata": {},
   "outputs": [],
   "source": [
    "### OBJETIVO DEL JUEGO:\n",
    "    # - Sacar una carta cuyo valor sea mayor al valor de la carta que saque el dealer.\n",
    "    \n",
    "### REGLAS DEL JUEGO:\n",
    "    # - El jugador que tenga la carta más alta gana. La carta más alta es el A, luego el K,Q,J,10,9,8,7,6,5,4,3,2. El valor es el mismo para los diferentes palos. Es decir: el A de corazones = el A de diamantes.\n",
    "    # - Antes de iniciar el juego, el jugador selecciona el importe a apostar.\n",
    "    # - Se hace la repartición de las cartas: Una carta para el jugador y una carta para el dealer.\n",
    "        # - Si la carta del jugador es MAYOR a la del dealer, el jugador GANA la partida y el jugador gana lo apostado.\n",
    "        # - Si la carta del jugador es MENOR a la del dealer, el jugador PIERDE la partida y el jugador pierde lo apostado.\n",
    "        # - Si la carta del jugador es IGUAL a la del dealer, el juego queda EMPATE y el jugador no gana ni pierde."
   ]
  },
  {
   "cell_type": "markdown",
   "metadata": {},
   "source": [
    "# Paso 1. Importar librerías"
   ]
  },
  {
   "cell_type": "code",
   "execution_count": 2,
   "metadata": {},
   "outputs": [],
   "source": [
    "import random\n",
    "import time"
   ]
  },
  {
   "cell_type": "markdown",
   "metadata": {},
   "source": [
    "# Paso 2. Crear la baraja"
   ]
  },
  {
   "cell_type": "code",
   "execution_count": 3,
   "metadata": {},
   "outputs": [],
   "source": [
    "#Crear las cartas de la baraja. Van del A al K y son cuatro palos: corazones, diamantes, tréboles y picas.\n",
    "\n",
    "baraja = sum(list(map( lambda carta: ['2'+str(carta),'3'+str(carta),'4'+str(carta),'5'+str(carta),'6'+str(carta),'7'+str(carta),'8'+str(carta),'9'+str(carta),'10'+str(carta),'J'+str(carta),'Q'+str(carta),'K'+str(carta),'A'+str(carta)], ['♥','♦','♣','♠'])),[])\n",
    "\n",
    "#Con el map creamos una lista de listas de cada uno de los elementos de las cartas de la baraja, del 2 al A, para cada uno de los 4 palos.\n",
    "#Con el sum hacemos que esta lista de listas quede en una lista sola.\n",
    "\n",
    "\n",
    "#Creamos una lista de los valores que vamos a asignarle a cada carta\n",
    "valores_baraja = [2,3,4,5,6,7,8,9,10,11,12,13,14,2,3,4,5,6,7,8,9,10,11,12,13,14,2,3,4,5,6,7,8,9,10,11,12,13,14,2,3,4,5,6,7,8,9,10,11,12,13,14]\n",
    "\n",
    "\n",
    "#Creamos un diccionario con las cartas y los valores\n",
    "baraja= dict(zip(baraja,valores_baraja))\n",
    "\n",
    "\n",
    "#Convertimos el diccionario en una lista para poder seleccionar elemenos random más adelante\n",
    "baraja_lista = list(baraja.items())\n",
    "\n",
    "\n",
    "#Creamos una baraja que tenga el número de decks que queramos para el juego\n",
    "#Elegimos el número de decks:\n",
    "decks = 2\n",
    "baraja_juego = baraja_lista*decks"
   ]
  },
  {
   "cell_type": "markdown",
   "metadata": {},
   "source": [
    "# Paso3. Parámetros del juego"
   ]
  },
  {
   "cell_type": "code",
   "execution_count": 4,
   "metadata": {},
   "outputs": [],
   "source": [
    "def nombre_jugador():\n",
    "    jugador = input('Indique el nombre del jugador: ')\n",
    "    print('- - - - -')\n",
    "    return jugador\n",
    "\n",
    "def compra_fichas():\n",
    "    try:\n",
    "        bank = int(input('Indique el importe de fichas que quiere comprar: $'))\n",
    "        print('- - - - -')\n",
    "        if isinstance (bank, int):\n",
    "            return bank\n",
    "        else:\n",
    "            raise ValueError\n",
    "    except ValueError as err:\n",
    "        print(\"OJO: El importe de fichas que desea comprar debe ser numérico.\")\n",
    "        print(err)\n",
    "        return compra_fichas()"
   ]
  },
  {
   "cell_type": "markdown",
   "metadata": {},
   "source": [
    "# Paso4. Iniciamos juego"
   ]
  },
  {
   "cell_type": "code",
   "execution_count": 5,
   "metadata": {},
   "outputs": [],
   "source": [
    "# Preguntamos cuanto quiere apostar el jugador\n",
    "\n",
    "def importe_apuesta(): \n",
    "    try:\n",
    "        apuesta = int(input('Indique el importe a apostar en esta partida: $'))\n",
    "        if isinstance (apuesta, int):\n",
    "            return apuesta\n",
    "        else:\n",
    "            raise ValueError\n",
    "    except ValueError as err:\n",
    "        print(\"OJO: El importe de fichas que desea apostar debe ser numérico\")\n",
    "        print(err)\n",
    "        return importe_apuesta()\n",
    "\n",
    "    \n",
    "# Comprobamos que el jugador tenga dinero para apostar lo deseado:   \n",
    "\n",
    "def validacion_apuesta(apuesta,bank):\n",
    "    if apuesta <= bank:\n",
    "        print('- - - - -')\n",
    "        print('Su apuesta ha sido aceptada.')\n",
    "        print('- - - - -')\n",
    "        print('No van más apuestas.')\n",
    "        print('- - - - -')\n",
    "        time.sleep(1)\n",
    "        print('Iniciamos partida')\n",
    "        print('- - - - -')\n",
    "        time.sleep(1)\n",
    "        return True\n",
    "    else:      \n",
    "        print('Saldo insuficiente, para seguir jugando compre más fichas en caja.')\n",
    "        print('- - - - -')\n",
    "        return False\n",
    "\n",
    "\n",
    "# Corremos las funciones para definir los parámetros del juego con las funciones previas:\n",
    "\n",
    "def parametros_juego():\n",
    "    jugador = nombre_jugador()\n",
    "    bank = compra_fichas()\n",
    "    print('Nombre del jugador: ' + jugador)\n",
    "    print('- - - - -')\n",
    "    print('El saldo actual de ' + jugador + ' es: $' + str(bank))\n",
    "    print('- - - - -')\n",
    "    apuesta = importe_apuesta()\n",
    "    juego_aceptado = validacion_apuesta(apuesta,bank)\n",
    "    if juego_aceptado == True:\n",
    "        return jugador, bank, apuesta\n",
    "    else:\n",
    "        return ('Juego terminado.')"
   ]
  },
  {
   "cell_type": "code",
   "execution_count": 6,
   "metadata": {},
   "outputs": [],
   "source": [
    "# Desarrollo del juego:\n",
    "\n",
    "\n",
    "# Seleccionamos la carta del jugador:\n",
    "\n",
    "def carta_jugador(jugador):\n",
    "    carta_jugador = random.choice(baraja_juego)\n",
    "    print('Carta de '+jugador+':')\n",
    "    print('- - - - -')\n",
    "    time.sleep(2)\n",
    "    print(carta_jugador[0])\n",
    "    return carta_jugador\n",
    "\n",
    "# Seleccionamos la carta del dealer:\n",
    "\n",
    "def carta_dealer():\n",
    "    carta_dealer = random.choice(baraja_juego)\n",
    "    print('Carta de Dealer:')\n",
    "    print('- - - - -')\n",
    "    time.sleep(2)\n",
    "    print(carta_dealer[0])\n",
    "    return carta_dealer\n",
    "\n",
    "# Hacemos la comparación de ambas cartas para ver quien gana.\n",
    "\n",
    "def resultado_juego(carta_jugador,carta_dealer,jugador,bank,apuesta):\n",
    "    bank = bank - apuesta\n",
    "    if carta_jugador[1] > carta_dealer[1]:\n",
    "        print (jugador+' gana la partida.')\n",
    "        bank = bank + apuesta*2\n",
    "        print('- - - - -')\n",
    "        time.sleep(1)\n",
    "        print('Su nuevo saldo es: $'+ str(bank))\n",
    "    if carta_jugador[1] < carta_dealer[1]:\n",
    "        print (jugador+' pierde la partida.')\n",
    "        bank = bank\n",
    "        print('- - - - -')\n",
    "        time.sleep(1)\n",
    "        print('Su nuevo saldo es: $'+ str(bank))\n",
    "    if carta_jugador[1] == carta_dealer[1]:\n",
    "        print ('Empate')\n",
    "        bank = bank + apuesta\n",
    "        print('- - - - -')\n",
    "        time.sleep(1)\n",
    "        print('Su saldo se mantiene igual: $'+ str(bank))"
   ]
  },
  {
   "cell_type": "code",
   "execution_count": 7,
   "metadata": {},
   "outputs": [],
   "source": [
    "def juego():\n",
    "    jugador,bank,apuesta = parametros_juego()\n",
    "    #Manejo de errores para cuando apuestes más de lo que tengas.\n",
    "    carta_del_jugador = carta_jugador(jugador)\n",
    "    time.sleep(1)\n",
    "    baraja_juego.remove(carta_del_jugador)\n",
    "    carta_del_dealer = carta_dealer()\n",
    "    time.sleep(1)\n",
    "    resultado_juego(carta_del_jugador,carta_del_dealer,jugador,bank,apuesta)\n",
    "    #Que me regrese el valor de banco actualizado\n",
    "    #Hacer un loop para seguir jugando mas ocasiones."
   ]
  },
  {
   "cell_type": "code",
   "execution_count": 10,
   "metadata": {},
   "outputs": [
    {
     "name": "stdout",
     "output_type": "stream",
     "text": [
      "Indique el nombre del jugador: Toro\n",
      "- - - - -\n",
      "Indique el importe de fichas que quiere comprar: $350000\n",
      "- - - - -\n",
      "Nombre del jugador: Toro\n",
      "- - - - -\n",
      "El saldo actual de Toro es: $350000\n",
      "- - - - -\n",
      "Indique el importe a apostar en esta partida: $350000\n",
      "- - - - -\n",
      "Su apuesta ha sido aceptada.\n",
      "- - - - -\n",
      "No van más apuestas.\n",
      "- - - - -\n",
      "Iniciamos partida\n",
      "- - - - -\n",
      "Carta de Toro:\n",
      "- - - - -\n",
      "5♣\n",
      "Carta de Dealer:\n",
      "- - - - -\n",
      "9♦\n",
      "Toro pierde la partida.\n",
      "- - - - -\n",
      "Su nuevo saldo es: $0\n"
     ]
    }
   ],
   "source": [
    "juego()"
   ]
  }
 ],
 "metadata": {
  "kernelspec": {
   "display_name": "Python 3",
   "language": "python",
   "name": "python3"
  },
  "language_info": {
   "codemirror_mode": {
    "name": "ipython",
    "version": 3
   },
   "file_extension": ".py",
   "mimetype": "text/x-python",
   "name": "python",
   "nbconvert_exporter": "python",
   "pygments_lexer": "ipython3",
   "version": "3.8.5"
  }
 },
 "nbformat": 4,
 "nbformat_minor": 4
}
