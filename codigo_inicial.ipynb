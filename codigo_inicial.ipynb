{
 "cells": [
  {
   "cell_type": "code",
   "execution_count": 1,
   "metadata": {},
   "outputs": [],
   "source": [
    "import random\n",
    "import time"
   ]
  },
  {
   "cell_type": "markdown",
   "metadata": {},
   "source": [
    "# Previo: Objetivo del juego:"
   ]
  },
  {
   "cell_type": "code",
   "execution_count": 2,
   "metadata": {},
   "outputs": [],
   "source": [
    "#Sacar una carta cuyo valor sea mayor al valor de la carta que saque el dealer."
   ]
  },
  {
   "cell_type": "markdown",
   "metadata": {},
   "source": [
    "# Previo: Reglas del juego:"
   ]
  },
  {
   "cell_type": "code",
   "execution_count": 3,
   "metadata": {},
   "outputs": [],
   "source": [
    "# - El jugador que tenga la carta más alta gana. La carta más alta es el A, luego el K,Q,J,10,9,8,7,6,5,4,3,2. El valor es el mismo para los diferentes palos. Es decir: el A de corazones = el A de diamantes.\n",
    "# - Antes de iniciar el juego, el jugador selecciona el importe a apostar.\n",
    "# - Se hace la repartición de las cartas: Una carta para el jugador y una carta para el dealer.\n",
    "    # - Si la carta del jugador es MAYOR a la del dealer, el jugador GANA la partida y el jugador gana lo apostado.\n",
    "    # - Si la carta del jugador es MENOR a la del dealer, el jugador PIERDE la partida y el jugador pierde lo apostado.\n",
    "    # - Si la carta del jugador es IGUAL a la del dealer, el juego queda EMPATE y el jugador no gana ni pierde."
   ]
  },
  {
   "cell_type": "markdown",
   "metadata": {},
   "source": [
    "# Paso 1. Crear la baraja"
   ]
  },
  {
   "cell_type": "code",
   "execution_count": 4,
   "metadata": {},
   "outputs": [
    {
     "name": "stdout",
     "output_type": "stream",
     "text": [
      "['2♥', '3♥', '4♥', '5♥', '6♥', '7♥', '8♥', '9♥', '10♥', 'J♥', 'Q♥', 'K♥', 'A♥', '2♦', '3♦', '4♦', '5♦', '6♦', '7♦', '8♦', '9♦', '10♦', 'J♦', 'Q♦', 'K♦', 'A♦', '2♣', '3♣', '4♣', '5♣', '6♣', '7♣', '8♣', '9♣', '10♣', 'J♣', 'Q♣', 'K♣', 'A♣', '2♠', '3♠', '4♠', '5♠', '6♠', '7♠', '8♠', '9♠', '10♠', 'J♠', 'Q♠', 'K♠', 'A♠']\n"
     ]
    }
   ],
   "source": [
    "#Crear las cartas de la baraja. Van del A al K y son cuatro palos: corazones, diamantes, tréboles y picas.\n",
    "\n",
    "baraja = sum(list(map( lambda carta: ['2'+str(carta),'3'+str(carta),'4'+str(carta),'5'+str(carta),'6'+str(carta),'7'+str(carta),'8'+str(carta),'9'+str(carta),'10'+str(carta),'J'+str(carta),'Q'+str(carta),'K'+str(carta),'A'+str(carta)], ['♥','♦','♣','♠'])),[])\n",
    "print(baraja)\n",
    "\n",
    "#Con el map creamos una lista de listas de cada uno de los elementos de las cartas de la baraja, del 2 al A, para cada uno de los 4 palos.\n",
    "#Con el sum hacemos que esta lista de listas quede en una lista sola."
   ]
  },
  {
   "cell_type": "markdown",
   "metadata": {},
   "source": [
    "# Paso2. Darle valores a las cartas"
   ]
  },
  {
   "cell_type": "code",
   "execution_count": 5,
   "metadata": {},
   "outputs": [
    {
     "name": "stdout",
     "output_type": "stream",
     "text": [
      "[('2♥', 2), ('3♥', 3), ('4♥', 4), ('5♥', 5), ('6♥', 6), ('7♥', 7), ('8♥', 8), ('9♥', 9), ('10♥', 10), ('J♥', 11), ('Q♥', 12), ('K♥', 13), ('A♥', 14), ('2♦', 2), ('3♦', 3), ('4♦', 4), ('5♦', 5), ('6♦', 6), ('7♦', 7), ('8♦', 8), ('9♦', 9), ('10♦', 10), ('J♦', 11), ('Q♦', 12), ('K♦', 13), ('A♦', 14), ('2♣', 2), ('3♣', 3), ('4♣', 4), ('5♣', 5), ('6♣', 6), ('7♣', 7), ('8♣', 8), ('9♣', 9), ('10♣', 10), ('J♣', 11), ('Q♣', 12), ('K♣', 13), ('A♣', 14), ('2♠', 2), ('3♠', 3), ('4♠', 4), ('5♠', 5), ('6♠', 6), ('7♠', 7), ('8♠', 8), ('9♠', 9), ('10♠', 10), ('J♠', 11), ('Q♠', 12), ('K♠', 13), ('A♠', 14), ('2♥', 2), ('3♥', 3), ('4♥', 4), ('5♥', 5), ('6♥', 6), ('7♥', 7), ('8♥', 8), ('9♥', 9), ('10♥', 10), ('J♥', 11), ('Q♥', 12), ('K♥', 13), ('A♥', 14), ('2♦', 2), ('3♦', 3), ('4♦', 4), ('5♦', 5), ('6♦', 6), ('7♦', 7), ('8♦', 8), ('9♦', 9), ('10♦', 10), ('J♦', 11), ('Q♦', 12), ('K♦', 13), ('A♦', 14), ('2♣', 2), ('3♣', 3), ('4♣', 4), ('5♣', 5), ('6♣', 6), ('7♣', 7), ('8♣', 8), ('9♣', 9), ('10♣', 10), ('J♣', 11), ('Q♣', 12), ('K♣', 13), ('A♣', 14), ('2♠', 2), ('3♠', 3), ('4♠', 4), ('5♠', 5), ('6♠', 6), ('7♠', 7), ('8♠', 8), ('9♠', 9), ('10♠', 10), ('J♠', 11), ('Q♠', 12), ('K♠', 13), ('A♠', 14)]\n"
     ]
    }
   ],
   "source": [
    "#Creamos una lista de los valores que vamos a asignarle a cada carta\n",
    "valores_baraja = [2,3,4,5,6,7,8,9,10,11,12,13,14,2,3,4,5,6,7,8,9,10,11,12,13,14,2,3,4,5,6,7,8,9,10,11,12,13,14,2,3,4,5,6,7,8,9,10,11,12,13,14]\n",
    "\n",
    "#Creamos un diccionario con las cartas y los valores\n",
    "baraja= dict(zip(baraja,valores_baraja))\n",
    "\n",
    "#Convertimos el diccionario en una lista para poder seleccionar elemenos random más adelante\n",
    "baraja_lista = list(baraja.items())\n",
    "\n",
    "#Creamos una baraja que tenga el número de decks que queramos para el juego\n",
    "\n",
    "#Elegimos el número de decks:\n",
    "decks = 2\n",
    "baraja_juego = baraja_lista*decks\n",
    "print(baraja_juego)"
   ]
  },
  {
   "cell_type": "markdown",
   "metadata": {},
   "source": [
    "# Paso3. Parámetro del juego"
   ]
  },
  {
   "cell_type": "code",
   "execution_count": 6,
   "metadata": {},
   "outputs": [],
   "source": [
    "def nombre_jugador():\n",
    "    jugador = input('Indique el nombre del jugador: ')\n",
    "    print('- - - - -')\n",
    "    return jugador\n",
    "\n",
    "def nombre_dealer():\n",
    "    dealer = input('Indique el nombre del dealer: ')\n",
    "    print('- - - - -')\n",
    "    return dealer\n",
    "\n",
    "def compra_fichas():\n",
    "    try:\n",
    "        bank_inicial = int(input('Indique el importe de fichas que quiere comprar: $'))\n",
    "        print('- - - - -')\n",
    "        if isinstance (bank_inicial, int):\n",
    "            return bank_inicial\n",
    "        else:\n",
    "            raise ValueError\n",
    "    except ValueError as err:\n",
    "        print(\"OJO: El importe de fichas que desea comprar debe ser numérico\")\n",
    "        print(err)\n",
    "        return compra_fichas()\n",
    "    \n",
    "def parametros_juego():\n",
    "    jugador = nombre_jugador()\n",
    "    dealer = nombre_dealer()\n",
    "    bank = compra_fichas()\n",
    "    print('Nombre del jugador: ' + jugador)\n",
    "    print('Nombre del dealer: ' + dealer)\n",
    "    print('El saldo actual de ' + jugador + ' es: $' + str(bank))"
   ]
  },
  {
   "cell_type": "code",
   "execution_count": 7,
   "metadata": {},
   "outputs": [
    {
     "name": "stdout",
     "output_type": "stream",
     "text": [
      "Indique el nombre del jugador: Toro\n",
      "- - - - -\n",
      "Indique el nombre del dealer: Dealer\n",
      "- - - - -\n",
      "Indique el importe de fichas que quiere comprar: $555\n",
      "- - - - -\n",
      "Nombre del jugador: Toro\n",
      "Nombre del dealer: Dealer\n",
      "El saldo actual de Toro es: $555\n"
     ]
    }
   ],
   "source": [
    "parametros_juego()"
   ]
  },
  {
   "cell_type": "code",
   "execution_count": 9,
   "metadata": {},
   "outputs": [
    {
     "name": "stdout",
     "output_type": "stream",
     "text": [
      "Indique el nombre del jugador: Toro\n",
      "- - - - -\n",
      "Indique el nombre del dealer: Dealer\n",
      "- - - - -\n",
      "Indique el importe de fichas que quiere comprar: $1000\n",
      "- - - - -\n"
     ]
    }
   ],
   "source": [
    "#Para sacar el valor de una variable definida dentro de una función\n",
    "\n",
    "jugador = nombre_jugador()\n",
    "dealer = nombre_dealer()\n",
    "bank = compra_fichas()"
   ]
  },
  {
   "cell_type": "markdown",
   "metadata": {},
   "source": [
    "# Paso4. Iniciamos juego"
   ]
  },
  {
   "cell_type": "code",
   "execution_count": 10,
   "metadata": {},
   "outputs": [
    {
     "name": "stdout",
     "output_type": "stream",
     "text": [
      "Indique el importe a apostar en esta partida: $5\n",
      "- - - - -\n",
      "No van más apuestas.\n",
      "- - - - -\n",
      "Iniciamos partida\n",
      "- - - - -\n",
      "Carta de Toro:\n",
      "2♣\n",
      "- - - - -\n",
      "Carta de Dealer:\n",
      "Q♥\n",
      "- - - - -\n",
      "Toro pierde la partida.\n",
      "- - - - -\n",
      "Su nuevo saldo es: $995\n"
     ]
    }
   ],
   "source": [
    "#Preguntamos cuanto quiere apostar el jugador\n",
    "\n",
    "def apuesta_input(): \n",
    "    try:\n",
    "        apuesta_input = int(input('Indique el importe a apostar en esta partida: $'))\n",
    "        print('- - - - -')\n",
    "        if isinstance (apuesta_input, int):\n",
    "            return apuesta_input\n",
    "        else:\n",
    "            raise ValueError\n",
    "    except ValueError as err:\n",
    "        print(\"OJO: El importe de fichas que desea apostar debe ser numérico\")\n",
    "        print(err)\n",
    "        return apuesta_input()\n",
    "\n",
    "\n",
    "apuesta = apuesta_input()\n",
    "\n",
    "#Comprobamos que el jugador tenga dinero para apostar lo deseado:\n",
    "if apuesta <= bank:\n",
    "    print('No van más apuestas.')\n",
    "    time.sleep(1)\n",
    "    print('- - - - -')\n",
    "    print('Iniciamos partida')\n",
    "    print('- - - - -')\n",
    "    time.sleep(1)\n",
    "else:\n",
    "    print('Saldo insuficiente, regrese otro día')\n",
    "    print('- - - - -')\n",
    "\n",
    "    \n",
    "#Desarrollo del juego:\n",
    "\n",
    "#Actulizamos el saldo del jugador:\n",
    "bank = bank - apuesta\n",
    "\n",
    "#Seleccionamos la carta del jugador:\n",
    "carta_jugador = random.choice(baraja_juego)\n",
    "print('Carta de '+jugador+':')\n",
    "print(carta_jugador[0])\n",
    "print('- - - - -')\n",
    "time.sleep(2)\n",
    "\n",
    "#Actualizamos la baraja del juego sin la carta del jugador para que no se repita en la carta que saque el dealer\n",
    "baraja_juego.remove(carta_jugador)\n",
    "\n",
    "#Seleccionamos la carta del dealer:\n",
    "carta_dealer = random.choice(baraja_juego)\n",
    "print('Carta de Dealer:')\n",
    "print(carta_dealer[0])\n",
    "print('- - - - -')\n",
    "time.sleep(1)\n",
    "\n",
    "#Hacemos la comparación de ambas cartas para ver quien gana\n",
    "\n",
    "if carta_jugador[1] > carta_dealer[1]:\n",
    "    print (jugador+' gana la partida.')\n",
    "    bank = bank + apuesta*2\n",
    "    print('- - - - -')\n",
    "    time.sleep(1)\n",
    "    print('Su nuevo saldo es: $'+ str(bank))\n",
    "    \n",
    "if carta_jugador[1] < carta_dealer[1]:\n",
    "    print (jugador+' pierde la partida.')\n",
    "    bank = bank\n",
    "    print('- - - - -')\n",
    "    time.sleep(1)\n",
    "    print('Su nuevo saldo es: $'+ str(bank))\n",
    "    \n",
    "if carta_jugador[1] == carta_dealer[1]:\n",
    "    print ('Empate')\n",
    "    bank = bank + apuesta\n",
    "    print('- - - - -')\n",
    "    time.sleep(1)\n",
    "    print('Su saldo se mantiene igual: $'+ str(bank))"
   ]
  }
 ],
 "metadata": {
  "kernelspec": {
   "display_name": "Python 3",
   "language": "python",
   "name": "python3"
  },
  "language_info": {
   "codemirror_mode": {
    "name": "ipython",
    "version": 3
   },
   "file_extension": ".py",
   "mimetype": "text/x-python",
   "name": "python",
   "nbconvert_exporter": "python",
   "pygments_lexer": "ipython3",
   "version": "3.8.5"
  }
 },
 "nbformat": 4,
 "nbformat_minor": 4
}
